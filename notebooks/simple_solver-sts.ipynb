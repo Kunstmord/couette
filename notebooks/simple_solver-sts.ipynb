{
 "cells": [
  {
   "cell_type": "code",
   "execution_count": 23,
   "metadata": {
    "collapsed": false
   },
   "outputs": [],
   "source": [
    "from kineticlib import particles, omegaint, loaddata, ratesvibr\n",
    "from scipy import constants\n",
    "from scipy.integrate import odeint\n",
    "from scipy.optimize import fsolve\n",
    "import numpy as np\n",
    "import matplotlib.pyplot as plt"
   ]
  },
  {
   "cell_type": "code",
   "execution_count": 24,
   "metadata": {
    "collapsed": false
   },
   "outputs": [],
   "source": [
    "%matplotlib inline"
   ]
  },
  {
   "cell_type": "code",
   "execution_count": 25,
   "metadata": {
    "collapsed": false
   },
   "outputs": [],
   "source": [
    "d_T_step = 2."
   ]
  },
  {
   "cell_type": "code",
   "execution_count": 26,
   "metadata": {
    "collapsed": false
   },
   "outputs": [],
   "source": [
    "def eta(T, omint_22):\n",
    "    return 5. * constants.k * T / (8. * omint_22)"
   ]
  },
  {
   "cell_type": "code",
   "execution_count": 27,
   "metadata": {
    "collapsed": true
   },
   "outputs": [],
   "source": [
    "def deta_dtau(T, omint_22, domint_22_dT):\n",
    "    return T_wall_2 * 5. * constants.k * (omint_22 - T * domint_22_dT) / (8. * omint_22**2)"
   ]
  },
  {
   "cell_type": "code",
   "execution_count": 28,
   "metadata": {
    "collapsed": false
   },
   "outputs": [],
   "source": [
    "def lambd(T, omint_22, omint_11):\n",
    "    return constants.k**2 * T * (75. / (32. * mol.mass * omint_22) + 3. / (8. * mol.mass * omint_11))"
   ]
  },
  {
   "cell_type": "code",
   "execution_count": 29,
   "metadata": {
    "collapsed": true
   },
   "outputs": [],
   "source": [
    "def dlambd_dtau(T, omint_22, domint_22_dT, omint_11, domint_11_dT):\n",
    "    return T_wall_2 * constants.k**2 * (75. * (omint_22 - T * domint_22_dT) / (32. * mol.mass * omint_22**2) + \n",
    "                                        3. * (omint_11 - T * domint_11_dT) / (8. * mol.mass * omint_11**2))"
   ]
  },
  {
   "cell_type": "code",
   "execution_count": 30,
   "metadata": {
    "collapsed": true
   },
   "outputs": [],
   "source": [
    "def D_coeff(T, omint_11, n):\n",
    "    return (3. * constants.k * T) / (8. * n * mol.mass * omint_11)"
   ]
  },
  {
   "cell_type": "code",
   "execution_count": 31,
   "metadata": {
    "collapsed": true
   },
   "outputs": [],
   "source": [
    "def dD_coeff_dx(T, omint_11, n):\n",
    "    return -3. * constants.k * T * n_wall_2 / (8. * n**2 * mol.mass * omint_11)"
   ]
  },
  {
   "cell_type": "code",
   "execution_count": 32,
   "metadata": {
    "collapsed": true
   },
   "outputs": [],
   "source": [
    "def dD_coeff_dtau(T, omint_11, domint_11_dT, n):\n",
    "    return T_wall_2 * 3. * constants.k * (omint_11 - T * domint_11_dT) / (8. * n * mol.mass * omint_11**2)"
   ]
  },
  {
   "cell_type": "code",
   "execution_count": 33,
   "metadata": {
    "collapsed": true
   },
   "outputs": [],
   "source": [
    "def make_vt_rates(T):\n",
    "    res = np.zeros(mol.num_vibr)  # i + 1 -> i\n",
    "    for i in range(mol.num_vibr):\n",
    "        res[i] = ratesvibr.vt_rate_ssh(T, d, mol, i+1, -1)\n",
    "    return res"
   ]
  },
  {
   "cell_type": "code",
   "execution_count": 34,
   "metadata": {
    "collapsed": true
   },
   "outputs": [],
   "source": [
    "def make_reverse_vt_rates(T, rates_vec):\n",
    "    # vec[i] = i + 1 -> i\n",
    "    # need to return i -> i + 1\n",
    "    return rates_vec * np.exp((mol.vibr[:mol.num_vibr] - mol.vibr[1:mol.num_vibr+1]) / (constants.k * T))"
   ]
  },
  {
   "cell_type": "code",
   "execution_count": 35,
   "metadata": {
    "collapsed": true
   },
   "outputs": [],
   "source": [
    "def make_reverse_vv_rates(rates_mat):\n",
    "    # mat[i, k] = (i + 1) + k -> i + (k + 1)\n",
    "    # need to return i + (k + 1)  -> (i + 1) + k\n",
    "    res = np.zeros(mol.num_vibr, mol.num_vibr) \n",
    "    for i in range(mol.num_vibr):\n",
    "        res[i, :] = rates_mat[i, :] * np.exp((mol.vibr[i] + mol.vibr[1:mol.num_vibr+1]\n",
    "                                              - mol.vibr[i+1] - mol.vibr[:mol.num_vibr]) / (constants.k * T))\n",
    "    return res"
   ]
  },
  {
   "cell_type": "code",
   "execution_count": 77,
   "metadata": {
    "collapsed": true
   },
   "outputs": [],
   "source": [
    "def LHS_xi_tau_mat(tau, xi_vec, x_tot, D, lambd_val):\n",
    "    lhs_mat = np.zeros([mol.num_vibr + 2, mol.num_vibr + 2])\n",
    "    lhs_mat[:mol.num_vibr, :mol.num_vibr+1] = 1. / x_tot\n",
    "    for i in range(mol.num_vibr):\n",
    "        for j in range(mol.num_vibr):\n",
    "            if i == j:\n",
    "                lhs_mat[i, j] -= 1. / xi_vec[i]  # TODO - redo via digaonal, needs numpy 1.10\n",
    "    lhs_mat[mol.num_vibr, :mol.num_vibr+1] = tau\n",
    "    lhs_mat[mol.num_vibr, mol.num_vibr+1] = x_tot\n",
    "    lhs_mat[mol.num_vibr+1, :mol.num_vibr+1] = mol.vibr\n",
    "    lhs_mat[mol.num_vibr+1, :mol.num_vibr+1] -= np.dot(mol.vibr, xi_vec)\n",
    "    lhs_mat[mol.num_vibr+1, :mol.num_vibr+1] *= D * n_wall_2 / lambd_val\n",
    "#     print(lhs_mat)\n",
    "    return lhs_mat"
   ]
  },
  {
   "cell_type": "code",
   "execution_count": 73,
   "metadata": {
    "collapsed": true
   },
   "outputs": [],
   "source": [
    "def RHS_xi_tau_vec(tau, dtau, xi_vec, dxi_vec, x_tot, dx_tot, dvel_val,# flow parameters\n",
    "                   D, dD_dtau, dD_dx, eta_val, deta_val_dtau, lambd_val, dlambd_val_dtau,  # transport coefficients\n",
    "                   R_i_vibr_vec):\n",
    "    rhs_vec = np.zeros(mol.num_vibr + 2)\n",
    "    for i in range(mol.num_vibr):\n",
    "        rhs_vec[i] = 0.\n",
    "    rhs_vec[:mol.num_vibr] = dxi_vec[:mol.num_vibr] * (dxi_vec[:mol.num_vibr] / xi_vec[:mol.num_vibr]**2\n",
    "                                                        - dx_tot / (xi_vec[:mol.num_vibr] * x_tot))\n",
    "    rhs_vec[:mol.num_vibr] += (dD_dx * dx_tot + dD_dtau * dtau) * (dxi_vec[:mol.num_vibr] / xi_vec[:mol.num_vibr]\n",
    "                                                                   - dx_tot / x_tot) / D\n",
    "    rhs_vec[:mol.num_vibr] += (dx_tot / x_tot)**2 - (dxi_vec[:mol.num_vibr] / xi_vec[:mol.num_vibr])**2\n",
    "    rhs_vec[:mol.num_vibr] += Y**2 * R_i_vibr_vec[:mol.num_vibr] / (D * xi_vec[:mol.num_vibr] * n_wall_2)\n",
    "    rhs_vec[mol.num_vibr] = -2 * dtau * dx_tot\n",
    "    \n",
    "#     rhs_tau = 0.\n",
    "#     for i in range(mol.num_vibr + 1):\n",
    "#         rhs_tau -= mol.vibr[i] * ((dD_dx * d_x_tot + dD_dtau * d_tau) * (d_xi_vec[i] - xi_vec[i] * d_x_tot / x_tot)\n",
    "#                                   + D * (xi_vec[i] * (d_x_tot / x_tot)**2) - d_xi_vec[i] * d_x_tot / x_tot)\n",
    "    rhs_tau = -np.dot(mol.vibr, ((dD_dx * dx_tot + dD_dtau * dtau) * (dxi_vec - xi_vec * dx_tot / x_tot)\n",
    "                                 + D * (xi_vec * (dx_tot / x_tot)**2 - dxi_vec * dx_tot / x_tot)))\n",
    "    rhs_tau *= n_wall_2 / lambd_val\n",
    "    rhs_tau -= eta_val * v_wall_2**2 * dvel_val**2 / lambd_val + T_wall_2 * dtau**2 * dlambd_val_dtau / lambd_val\n",
    "    rhs_vec[mol.num_vibr + 1] = rhs_tau\n",
    "    return rhs_vec"
   ]
  },
  {
   "cell_type": "code",
   "execution_count": 65,
   "metadata": {
    "collapsed": true
   },
   "outputs": [],
   "source": [
    "def second_derivatives_value_xi_tau_vec(tau, dtau, xi_vec, dxi_vec, x_tot, dx_tot, dvel_val,\n",
    "                                        D, dD_dtau, dD_dx, eta_val, deta_val_dtau, lambd_val, dlambd_val_dtau,\n",
    "                                        R_i_vibr_vec):\n",
    "    \"\"\"\n",
    "    Calculate the values of the second derivatives of variables x_{i} and tau\n",
    "    \"\"\"\n",
    "    lhs_mat = LHS_xi_tau_mat(tau, xi_vec, x_tot, D, lambd_val)\n",
    "    rhs_vec = RHS_xi_tau_vec(tau, dtau, xi_vec, dxi_vec, x_tot, dx_tot, dvel_val,\n",
    "                             D, dD_dtau, dD_dx, eta_val, deta_val_dtau, lambd_val, dlambd_val_dtau,\n",
    "                             R_i_vibr_vec)\n",
    "    \n",
    "    return np.linalg.solve(lhs_mat, rhs_vec)"
   ]
  },
  {
   "cell_type": "code",
   "execution_count": 79,
   "metadata": {
    "collapsed": false
   },
   "outputs": [],
   "source": [
    "def sysvec(y, t):\n",
    "    \"\"\"\n",
    "    Right-hand side of the Couette ODE system in dimensionless variables\n",
    "    \"\"\"\n",
    "    rhs_vec = np.zeros(2*mol.num_vibr+6)\n",
    "    R_i_vibr_vec = np.zeros(mol.num_vibr+1)\n",
    "#     x1, x2, dx1, dx2 = y\n",
    "    xi_vec = y[:mol.num_vibr+1]\n",
    "    dxi_vec = y[mol.num_vibr+1:2*mol.num_vibr+2]\n",
    "    vel_val = y[2*mol.num_vibr+2]\n",
    "    dvel_val = y[2*mol.num_vibr+3]\n",
    "    tau = y[2*mol.num_vibr+4]\n",
    "    dtau = y[2*mol.num_vibr+5]\n",
    "    \n",
    "    rhs_vec[:mol.num_vibr+1] = dxi_vec\n",
    "    rhs_vec[2*mol.num_vibr+2] = dvel_val\n",
    "    rhs_vec[2*mol.num_vibr+4] = dtau\n",
    "    \n",
    "    T = tau * T_wall_2\n",
    "    x_tot = np.sum(xi_vec)\n",
    "    dx_tot = np.sum(dxi_vec)\n",
    "    n = n_wall_2 * x_tot\n",
    "    \n",
    "    omint_11 = omegaint.omega(T, 1, 1, d)\n",
    "    domint_11 = (omegaint.omega(T + d_step, 1, 1, d, dimensional=True)\n",
    "                 - omegaint.omega(T - d_step, 1, 1, d, dimensional=True)) / (2. * d_step)\n",
    "    omint_22 = omegaint.omega(T, 2, 2, d)\n",
    "    domint_22 = (omegaint.omega(T + d_step, 2, 2, d, dimensional=True)\n",
    "                 - omegaint.omega(T - d_step, 2, 2, d, dimensional=True)) / (2. * d_step)\n",
    "    \n",
    "    eta_val = eta(T, omint_22)\n",
    "    deta_val_dtau = deta_dtau(T, omint_22, domint_22)\n",
    "    lambd_val = lambd(T, omint_22, omint_11)\n",
    "    dlambd_val_dtau = dlambd_dtau(T, omint_22, domint_22, omint_11, domint_11)\n",
    "    \n",
    "    D = D_coeff(T, omint_11, n)\n",
    "    dD_dx = dD_coeff_dx(T, omint_11, n)\n",
    "    dD_dtau = dD_coeff_dtau(T, omint_11, domint_11, n)\n",
    "    \n",
    "#     vt_rate_down = np.zeros(mol.num_vibr)  # i + 1 -> i\n",
    "    # TODO ADD RATE CALCULATION\n",
    "    vt_rate_down = make_vt_rates(T)\n",
    "    vt_rate_up = make_reverse_vt_rates(T, vt_rate_down)  # i -> i + 1\n",
    "    \n",
    "#     vv_rate_down = np.zeros(mol.num_vibr, mol.num_vibr)  # (i + 1) + k -> i + (k + 1)\n",
    "    # TODO ADD RATE CALCULATION\n",
    "#     vv_rate_up = make_reverse_vv_rates(T, vv_rate_down)   # i + (k + 1)  -> (i + 1) + k\n",
    "    \n",
    "#     for i in range(mol.num_vibr-1):\n",
    "#         R_i_vibr_vec[i+1] = xi_vec[i] * vt_rate_up[i] - xi_vec[i+1] * vt_rate_down[i]\n",
    "#         R_i_vibr_vec[i+1] += xi_vec[i+2] * vt_rate_down[i+1] - xi_vec[i+1] * vt_rate_up[i+1]\n",
    "        \n",
    "    R_i_vibr_vec[1:mol.num_vibr] = xi_vec[:mol.num_vibr-1] * vt_rate_up[:mol.num_vibr-1]\n",
    "    R_i_vibr_vec[1:mol.num_vibr] -= xi_vec[1:mol.num_vibr] * vt_rate_down[:mol.num_vibr-1]\n",
    "    R_i_vibr_vec[1:mol.num_vibr] += xi_vec[2:mol.num_vibr+1] * vt_rate_down[1:mol.num_vibr]\n",
    "    R_i_vibr_vec[1:mol.num_vibr] -= xi_vec[1:mol.num_vibr] * vt_rate_up[1:mol.num_vibr]\n",
    "    \n",
    "    R_i_vibr_vec[0] = xi_vec[1] * vt_rate_down[0] - xi_vec[0] * vt_rate_up[0]\n",
    "    R_i_vibr_vec[mol.num_vibr] = xi_vec[mol.num_vibr - 1] * vt_rate_up[mol.num_vibr - 1]\n",
    "    R_i_vibr_vec[mol.num_vibr] -= xi_vec[mol.num_vibr] * vt_rate_down[mol.num_vibr - 1]\n",
    "    R_i_vibr_vec *= x_tot  # VT transitions\n",
    "    \n",
    "    # TODO – VV transitions\n",
    "    \n",
    "    d2xi_d2_tau_vec = second_derivatives_value_xi_tau_vec(tau, dtau, xi_vec, dxi_vec, x_tot, dx_tot, dvel_val,\n",
    "                                                          D, dD_dtau, dD_dx, eta_val, deta_val_dtau,\n",
    "                                                          lambd_val, dlambd_val_dtau,\n",
    "                                                          R_i_vibr_vec)\n",
    "    rhs_vec[mol.num_vibr+1:2*mol.num_vibr+2] = d2xi_d2_tau_vec[:mol.num_vibr+1]\n",
    "    rhs_vec[2*mol.num_vibr+3] = - dvel_val * dtau * deta_val_dtau / eta_val\n",
    "    rhs_vec[2*mol.num_vibr+5] = d2xi_d2_tau_vec[mol.num_vibr+1]\n",
    "    return rhs_vec"
   ]
  },
  {
   "cell_type": "code",
   "execution_count": 40,
   "metadata": {
    "collapsed": false
   },
   "outputs": [],
   "source": [
    "def give_solution_dimensionless(start_d_values):\n",
    "    \"\"\"\n",
    "    Returns a solution of the Couette ODE system in dimensionless variables,\n",
    "    given the values of their derivatives on the lower wall\n",
    "    \"\"\"\n",
    "    full_cauchy_vec = np.zeros(2*mol.num_vibr+6)\n",
    "    full_cauchy_vec[:mol.num_vibr+1] = xi_wall_1[:]  # xi\n",
    "    full_cauchy_vec[mol.num_vibr+1:2*mol.num_vibr+2] = start_d_values[:mol.num_vibr+1]  # dxi/dy\n",
    "    full_cauchy_vec[2*mol.num_vibr+2] = 0.  # the velocity is zero\n",
    "    full_cauchy_vec[2*mol.num_vibr+3] = start_d_values[mol.num_vibr+1]\n",
    "    full_cauchy_vec[2*mol.num_vibr+4] = T_wall_1 / T_wall_2\n",
    "    full_cauchy_vec[2*mol.num_vibr+5] = start_d_values[mol.num_vibr+2]\n",
    "    return odeint(sysvec, full_cauchy_vec, y_span)"
   ]
  },
  {
   "cell_type": "code",
   "execution_count": 41,
   "metadata": {
    "collapsed": false
   },
   "outputs": [],
   "source": [
    "def dimensionless_obj(start_d_values):\n",
    "    \"\"\"\n",
    "    The objective function for which we need to find the roots to solve the Couette ODE system, dimensionless version\n",
    "    param_vec is a list containing an approximation of the velocity and temperature derivatives\n",
    "    \"\"\"\n",
    "    res = give_solution_dimensionless(start_d_values)\n",
    "    tmp = np.zeros(mol.num_vibr+3)\n",
    "    \n",
    "#     for i in range(mol.num_vibr+1):\n",
    "#         tmp[i] = res[-1, i] - xi_wall_2[i]\n",
    "    tmp[:mol.num_vibr+1] = res[-1, mol.num_vibr+1] - xi_wall_2[:]\n",
    "    tmp[mol.num_vibr+1] = res[-1, 2*mol.num_vibr+2] - 1\n",
    "    tmp[mol.num_vibr+2] = res[-1, 2*mol.num_vibr+4] - 1\n",
    "    return tmp"
   ]
  },
  {
   "cell_type": "code",
   "execution_count": 83,
   "metadata": {
    "collapsed": false
   },
   "outputs": [],
   "source": [
    "def full_solve_dimensionless():\n",
    "    omint_22 = omegaint.omega(T_wall_1, 2, 2, d)\n",
    "    omint_11 = omegaint.omega(T_wall_1, 2, 2, d)\n",
    "    eta_lw = eta(T_wall_1, omint_22)\n",
    "    lamb_lw = lambd(T_wall_1, omint_22, omint_11)\n",
    "    start_cond_T = (T_wall_2 - T_wall_1) / T_wall_1\n",
    "    \n",
    "    start_d_values = np.zeros(mol.num_vibr+3)\n",
    "    start_d_values[:mol.num_vibr+1] = 0.\n",
    "    start_d_values[mol.num_vibr+1] = 1.\n",
    "    start_d_values[mol.num_vibr+2] = start_cond_T\n",
    "    start_d_values = fsolve(dimensionless_obj, start_d_values)\n",
    "    return give_solution_dimensionless(start_d_values)"
   ]
  },
  {
   "cell_type": "code",
   "execution_count": 88,
   "metadata": {
    "collapsed": false
   },
   "outputs": [],
   "source": [
    "def convert_to_dimensional(sol_xi, sol_vx, sol_T):\n",
    "    return [sol_xi * n_wall_2, sol_vx * v_wall_2, sol_T * T_wall_2]"
   ]
  },
  {
   "cell_type": "code",
   "execution_count": 44,
   "metadata": {
    "collapsed": true
   },
   "outputs": [],
   "source": [
    "def create_boltzmann_distribution(T):\n",
    "    v_exp = np.exp(-mol.vibr[:] / (constants.k * T))\n",
    "    return v_exp / np.sum(v_exp)"
   ]
  },
  {
   "cell_type": "code",
   "execution_count": 46,
   "metadata": {
    "collapsed": false
   },
   "outputs": [],
   "source": [
    "mol = particles.Molecule('N2', 'harmonic')\n",
    "d = loaddata.load_elastic_parameters(mol, mol)"
   ]
  },
  {
   "cell_type": "code",
   "execution_count": 70,
   "metadata": {
    "collapsed": true
   },
   "outputs": [],
   "source": [
    "v_wall_2 = 300.  # the velocity of the moving wall\n",
    "T_wall_2 = 1000.  # the temperature of the moving wall\n",
    "T_wall_1 = 1000.  # the temperature of the stationary wall\n",
    "n_wall_1 = 10.**21\n",
    "n_wall_2 = 10.**21\n",
    "xi_wall_1 = create_boltzmann_distribution(T_wall_1) * n_wall_1 / n_wall_2\n",
    "xi_wall_2 = create_boltzmann_distribution(T_wall_2)\n",
    "Y = 1.  # the distance between the walls"
   ]
  },
  {
   "cell_type": "code",
   "execution_count": 71,
   "metadata": {
    "collapsed": false
   },
   "outputs": [],
   "source": [
    "d_step = 5.\n",
    "points = 100.\n",
    "points_per_meter = 100\n",
    "y_span = np.linspace(0, 1., points)"
   ]
  },
  {
   "cell_type": "code",
   "execution_count": 84,
   "metadata": {
    "collapsed": false
   },
   "outputs": [
    {
     "name": "stdout",
     "output_type": "stream",
     "text": [
      "Excess work done on this call (perhaps wrong Dfun type).\n",
      "Run with full_output = 1 to get quantitative information.\n",
      "Excess work done on this call (perhaps wrong Dfun type).\n",
      "Run with full_output = 1 to get quantitative information.\n",
      "Excess work done on this call (perhaps wrong Dfun type).\n",
      "Run with full_output = 1 to get quantitative information.\n",
      "Excess work done on this call (perhaps wrong Dfun type).\n",
      "Run with full_output = 1 to get quantitative information.\n",
      "Excess work done on this call (perhaps wrong Dfun type).\n",
      "Run with full_output = 1 to get quantitative information.\n",
      "Excess work done on this call (perhaps wrong Dfun type).\n",
      "Run with full_output = 1 to get quantitative information.\n",
      "Excess work done on this call (perhaps wrong Dfun type).\n",
      "Run with full_output = 1 to get quantitative information.\n",
      "Excess work done on this call (perhaps wrong Dfun type).\n",
      "Run with full_output = 1 to get quantitative information.\n",
      "Excess work done on this call (perhaps wrong Dfun type).\n",
      "Run with full_output = 1 to get quantitative information.\n",
      "Excess work done on this call (perhaps wrong Dfun type).\n",
      "Run with full_output = 1 to get quantitative information.\n",
      "Excess work done on this call (perhaps wrong Dfun type).\n",
      "Run with full_output = 1 to get quantitative information.\n",
      "Excess work done on this call (perhaps wrong Dfun type).\n",
      "Run with full_output = 1 to get quantitative information.\n",
      "Excess work done on this call (perhaps wrong Dfun type).\n",
      "Run with full_output = 1 to get quantitative information.\n",
      "Excess work done on this call (perhaps wrong Dfun type).\n",
      "Run with full_output = 1 to get quantitative information.\n",
      "Excess work done on this call (perhaps wrong Dfun type).\n",
      "Run with full_output = 1 to get quantitative information.\n",
      "Excess work done on this call (perhaps wrong Dfun type).\n",
      "Run with full_output = 1 to get quantitative information.\n",
      "Excess work done on this call (perhaps wrong Dfun type).\n",
      "Run with full_output = 1 to get quantitative information.\n",
      "Excess work done on this call (perhaps wrong Dfun type).\n",
      "Run with full_output = 1 to get quantitative information.\n",
      "Excess work done on this call (perhaps wrong Dfun type).\n",
      "Run with full_output = 1 to get quantitative information.\n",
      "Excess work done on this call (perhaps wrong Dfun type).\n",
      "Run with full_output = 1 to get quantitative information.\n",
      "Excess work done on this call (perhaps wrong Dfun type).\n",
      "Run with full_output = 1 to get quantitative information.\n",
      "Excess work done on this call (perhaps wrong Dfun type).\n",
      "Run with full_output = 1 to get quantitative information.\n",
      "Excess work done on this call (perhaps wrong Dfun type).\n",
      "Run with full_output = 1 to get quantitative information.\n",
      "Excess work done on this call (perhaps wrong Dfun type).\n",
      "Run with full_output = 1 to get quantitative information.\n",
      "Excess work done on this call (perhaps wrong Dfun type).\n",
      "Run with full_output = 1 to get quantitative information.\n",
      "Excess work done on this call (perhaps wrong Dfun type).\n",
      "Run with full_output = 1 to get quantitative information.\n",
      "Excess work done on this call (perhaps wrong Dfun type).\n",
      "Run with full_output = 1 to get quantitative information.\n",
      "Excess work done on this call (perhaps wrong Dfun type).\n",
      "Run with full_output = 1 to get quantitative information.\n",
      "Excess work done on this call (perhaps wrong Dfun type).\n",
      "Run with full_output = 1 to get quantitative information.\n",
      "Excess work done on this call (perhaps wrong Dfun type).\n",
      "Run with full_output = 1 to get quantitative information.\n",
      "Excess work done on this call (perhaps wrong Dfun type).\n",
      "Run with full_output = 1 to get quantitative information.\n",
      "Excess work done on this call (perhaps wrong Dfun type).\n",
      "Run with full_output = 1 to get quantitative information.\n",
      "Excess work done on this call (perhaps wrong Dfun type).\n",
      "Run with full_output = 1 to get quantitative information.\n",
      "Excess work done on this call (perhaps wrong Dfun type).\n",
      "Run with full_output = 1 to get quantitative information.\n",
      "Excess work done on this call (perhaps wrong Dfun type).\n",
      "Run with full_output = 1 to get quantitative information.\n",
      "Excess work done on this call (perhaps wrong Dfun type).\n",
      "Run with full_output = 1 to get quantitative information.\n",
      "Excess work done on this call (perhaps wrong Dfun type).\n",
      "Run with full_output = 1 to get quantitative information.\n",
      "Excess work done on this call (perhaps wrong Dfun type).\n",
      "Run with full_output = 1 to get quantitative information.\n",
      "Excess work done on this call (perhaps wrong Dfun type).\n",
      "Run with full_output = 1 to get quantitative information.\n",
      "Excess work done on this call (perhaps wrong Dfun type).\n",
      "Run with full_output = 1 to get quantitative information.\n",
      "Excess work done on this call (perhaps wrong Dfun type).\n",
      "Run with full_output = 1 to get quantitative information.\n",
      "Excess work done on this call (perhaps wrong Dfun type).\n",
      "Run with full_output = 1 to get quantitative information.\n",
      "Excess work done on this call (perhaps wrong Dfun type).\n",
      "Run with full_output = 1 to get quantitative information.\n",
      "Excess work done on this call (perhaps wrong Dfun type).\n",
      "Run with full_output = 1 to get quantitative information.\n",
      "Excess work done on this call (perhaps wrong Dfun type).\n",
      "Run with full_output = 1 to get quantitative information.\n",
      "Excess work done on this call (perhaps wrong Dfun type).\n",
      "Run with full_output = 1 to get quantitative information.\n",
      "Excess work done on this call (perhaps wrong Dfun type).\n",
      "Run with full_output = 1 to get quantitative information.\n",
      "Excess work done on this call (perhaps wrong Dfun type).\n",
      "Run with full_output = 1 to get quantitative information.\n",
      "Excess work done on this call (perhaps wrong Dfun type).\n",
      "Run with full_output = 1 to get quantitative information.\n",
      "Excess work done on this call (perhaps wrong Dfun type).\n",
      "Run with full_output = 1 to get quantitative information.\n",
      "Excess work done on this call (perhaps wrong Dfun type).\n",
      "Run with full_output = 1 to get quantitative information.\n",
      "Excess work done on this call (perhaps wrong Dfun type).\n",
      "Run with full_output = 1 to get quantitative information.\n",
      "Excess work done on this call (perhaps wrong Dfun type).\n",
      "Run with full_output = 1 to get quantitative information.\n",
      "Excess work done on this call (perhaps wrong Dfun type).\n",
      "Run with full_output = 1 to get quantitative information.\n",
      "Excess work done on this call (perhaps wrong Dfun type).\n",
      "Run with full_output = 1 to get quantitative information.\n",
      "Excess work done on this call (perhaps wrong Dfun type).\n",
      "Run with full_output = 1 to get quantitative information.\n",
      "Excess work done on this call (perhaps wrong Dfun type).\n",
      "Run with full_output = 1 to get quantitative information.\n",
      "Excess work done on this call (perhaps wrong Dfun type).\n",
      "Run with full_output = 1 to get quantitative information.\n",
      "Excess work done on this call (perhaps wrong Dfun type).\n",
      "Run with full_output = 1 to get quantitative information.\n",
      "Excess work done on this call (perhaps wrong Dfun type).\n",
      "Run with full_output = 1 to get quantitative information.\n",
      "Excess work done on this call (perhaps wrong Dfun type).\n",
      "Run with full_output = 1 to get quantitative information.\n",
      "Excess work done on this call (perhaps wrong Dfun type).\n",
      "Run with full_output = 1 to get quantitative information.\n",
      "Excess work done on this call (perhaps wrong Dfun type).\n",
      "Run with full_output = 1 to get quantitative information.\n",
      "Excess work done on this call (perhaps wrong Dfun type).\n",
      "Run with full_output = 1 to get quantitative information.\n",
      "Excess work done on this call (perhaps wrong Dfun type).\n",
      "Run with full_output = 1 to get quantitative information.\n",
      "Excess work done on this call (perhaps wrong Dfun type).\n",
      "Run with full_output = 1 to get quantitative information.\n",
      "Excess work done on this call (perhaps wrong Dfun type).\n",
      "Run with full_output = 1 to get quantitative information.\n",
      "Excess work done on this call (perhaps wrong Dfun type).\n",
      "Run with full_output = 1 to get quantitative information.\n",
      "Excess work done on this call (perhaps wrong Dfun type).\n",
      "Run with full_output = 1 to get quantitative information.\n",
      "Excess work done on this call (perhaps wrong Dfun type).\n",
      "Run with full_output = 1 to get quantitative information.\n",
      "Excess work done on this call (perhaps wrong Dfun type).\n",
      "Run with full_output = 1 to get quantitative information.\n",
      "Excess work done on this call (perhaps wrong Dfun type).\n",
      "Run with full_output = 1 to get quantitative information.\n",
      "Excess work done on this call (perhaps wrong Dfun type).\n",
      "Run with full_output = 1 to get quantitative information.\n",
      "Excess work done on this call (perhaps wrong Dfun type).\n",
      "Run with full_output = 1 to get quantitative information.\n",
      "Excess work done on this call (perhaps wrong Dfun type).\n",
      "Run with full_output = 1 to get quantitative information.\n",
      "Excess work done on this call (perhaps wrong Dfun type).\n",
      "Run with full_output = 1 to get quantitative information.\n",
      "Excess work done on this call (perhaps wrong Dfun type).\n",
      "Run with full_output = 1 to get quantitative information.\n",
      "Excess work done on this call (perhaps wrong Dfun type).\n",
      "Run with full_output = 1 to get quantitative information.\n",
      "Excess work done on this call (perhaps wrong Dfun type).\n",
      "Run with full_output = 1 to get quantitative information.\n",
      "Excess work done on this call (perhaps wrong Dfun type).\n",
      "Run with full_output = 1 to get quantitative information.\n",
      "Excess work done on this call (perhaps wrong Dfun type).\n",
      "Run with full_output = 1 to get quantitative information.\n",
      "Excess work done on this call (perhaps wrong Dfun type).\n",
      "Run with full_output = 1 to get quantitative information.\n",
      "Excess work done on this call (perhaps wrong Dfun type).\n",
      "Run with full_output = 1 to get quantitative information.\n",
      "Excess work done on this call (perhaps wrong Dfun type).\n",
      "Run with full_output = 1 to get quantitative information.\n"
     ]
    },
    {
     "name": "stderr",
     "output_type": "stream",
     "text": [
      "/Users/georgeoblapenko/anaconda/envs/py34/lib/python3.4/site-packages/scipy/optimize/minpack.py:237: RuntimeWarning: The iteration is not making good progress, as measured by the \n",
      "  improvement from the last ten iterations.\n",
      "  warnings.warn(msg, RuntimeWarning)\n"
     ]
    },
    {
     "ename": "TypeError",
     "evalue": "convert_to_dimensional() missing 1 required positional argument: 'sol_T'",
     "output_type": "error",
     "traceback": [
      "\u001b[0;31m---------------------------------------------------------------------------\u001b[0m",
      "\u001b[0;31mTypeError\u001b[0m                                 Traceback (most recent call last)",
      "\u001b[0;32m<ipython-input-84-8093cfea1b51>\u001b[0m in \u001b[0;36m<module>\u001b[0;34m()\u001b[0m\n\u001b[1;32m      1\u001b[0m \u001b[0msol_dimless\u001b[0m \u001b[0;34m=\u001b[0m \u001b[0mfull_solve_dimensionless\u001b[0m\u001b[0;34m(\u001b[0m\u001b[0;34m)\u001b[0m\u001b[0;34m\u001b[0m\u001b[0m\n\u001b[0;32m----> 2\u001b[0;31m \u001b[0ms2\u001b[0m \u001b[0;34m=\u001b[0m \u001b[0mconvert_to_dimensional\u001b[0m\u001b[0;34m(\u001b[0m\u001b[0msol_dimless\u001b[0m\u001b[0;34m[\u001b[0m\u001b[0;34m:\u001b[0m\u001b[0;34m,\u001b[0m\u001b[0;36m0\u001b[0m\u001b[0;34m]\u001b[0m\u001b[0;34m,\u001b[0m \u001b[0msol_dimless\u001b[0m\u001b[0;34m[\u001b[0m\u001b[0;34m:\u001b[0m\u001b[0;34m,\u001b[0m\u001b[0;36m1\u001b[0m\u001b[0;34m]\u001b[0m\u001b[0;34m)\u001b[0m\u001b[0;34m\u001b[0m\u001b[0m\n\u001b[0m",
      "\u001b[0;31mTypeError\u001b[0m: convert_to_dimensional() missing 1 required positional argument: 'sol_T'"
     ]
    }
   ],
   "source": [
    "sol_dimless = full_solve_dimensionless()"
   ]
  },
  {
   "cell_type": "code",
   "execution_count": 86,
   "metadata": {
    "collapsed": false
   },
   "outputs": [
    {
     "data": {
      "text/plain": [
       "(100, 70)"
      ]
     },
     "execution_count": 86,
     "metadata": {},
     "output_type": "execute_result"
    }
   ],
   "source": [
    "sol_dimless.shape"
   ]
  },
  {
   "cell_type": "code",
   "execution_count": 89,
   "metadata": {
    "collapsed": false
   },
   "outputs": [
    {
     "name": "stderr",
     "output_type": "stream",
     "text": [
      "/Users/georgeoblapenko/anaconda/envs/py34/lib/python3.4/site-packages/IPython/kernel/__main__.py:2: RuntimeWarning: overflow encountered in multiply\n",
      "  from IPython.kernel.zmq import kernelapp as app\n"
     ]
    }
   ],
   "source": [
    "s2 = convert_to_dimensional(sol_dimless[:, :mol.num_vibr+1],\n",
    "                            sol_dimless[:, mol.num_vibr+1],\n",
    "                            sol_dimless[:, mol.num_vibr+2])"
   ]
  },
  {
   "cell_type": "code",
   "execution_count": null,
   "metadata": {
    "collapsed": true
   },
   "outputs": [],
   "source": []
  }
 ],
 "metadata": {
  "kernelspec": {
   "display_name": "Python 3",
   "language": "python",
   "name": "python3"
  },
  "language_info": {
   "codemirror_mode": {
    "name": "ipython",
    "version": 3
   },
   "file_extension": ".py",
   "mimetype": "text/x-python",
   "name": "python",
   "nbconvert_exporter": "python",
   "pygments_lexer": "ipython3",
   "version": "3.4.3"
  }
 },
 "nbformat": 4,
 "nbformat_minor": 0
}
