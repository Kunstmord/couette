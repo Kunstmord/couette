{
 "cells": [
  {
   "cell_type": "code",
   "execution_count": 1,
   "metadata": {
    "collapsed": false
   },
   "outputs": [],
   "source": [
    "from kineticlib import particles, omegaint, loaddata, ratesvibr\n",
    "from scipy import constants\n",
    "from scipy.integrate import odeint\n",
    "from scipy.optimize import fsolve\n",
    "import numpy as np\n",
    "import matplotlib.pyplot as plt"
   ]
  },
  {
   "cell_type": "code",
   "execution_count": 2,
   "metadata": {
    "collapsed": false
   },
   "outputs": [],
   "source": [
    "%matplotlib inline"
   ]
  },
  {
   "cell_type": "code",
   "execution_count": 3,
   "metadata": {
    "collapsed": false
   },
   "outputs": [],
   "source": [
    "d_T_step = 2."
   ]
  },
  {
   "cell_type": "code",
   "execution_count": 4,
   "metadata": {
    "collapsed": false
   },
   "outputs": [],
   "source": [
    "global global_print\n",
    "global_print = True"
   ]
  },
  {
   "cell_type": "code",
   "execution_count": 5,
   "metadata": {
    "collapsed": false
   },
   "outputs": [],
   "source": [
    "def eta(T, omint_22):\n",
    "    return 5. * constants.k * T / (8. * omint_22)"
   ]
  },
  {
   "cell_type": "code",
   "execution_count": 6,
   "metadata": {
    "collapsed": true
   },
   "outputs": [],
   "source": [
    "def deta_dtau(T, omint_22, domint_22_dT):\n",
    "    return T_wall_2 * 5. * constants.k * (omint_22 - T * domint_22_dT) / (8. * omint_22**2)"
   ]
  },
  {
   "cell_type": "code",
   "execution_count": 7,
   "metadata": {
    "collapsed": false
   },
   "outputs": [],
   "source": [
    "def lambd(T, omint_22, omint_11):\n",
    "    return constants.k**2 * T * (75. / (32. * mol.mass * omint_22) + 3. / (8. * mol.mass * omint_11))"
   ]
  },
  {
   "cell_type": "code",
   "execution_count": 8,
   "metadata": {
    "collapsed": true
   },
   "outputs": [],
   "source": [
    "def dlambd_dtau(T, omint_22, domint_22_dT, omint_11, domint_11_dT):\n",
    "    return T_wall_2 * constants.k**2 * (75. * (omint_22 - T * domint_22_dT) / (32. * mol.mass * omint_22**2) + \n",
    "                                        3. * (omint_11 - T * domint_11_dT) / (8. * mol.mass * omint_11**2))"
   ]
  },
  {
   "cell_type": "code",
   "execution_count": 9,
   "metadata": {
    "collapsed": true
   },
   "outputs": [],
   "source": [
    "def D_coeff(T, omint_11, n):\n",
    "    return (3. * constants.k * T) / (8. * n * mol.mass * omint_11)"
   ]
  },
  {
   "cell_type": "code",
   "execution_count": 10,
   "metadata": {
    "collapsed": true
   },
   "outputs": [],
   "source": [
    "def dD_coeff_dx(T, omint_11, n):\n",
    "    return -3. * constants.k * T * n_wall_2 / (8. * n**2 * mol.mass * omint_11)"
   ]
  },
  {
   "cell_type": "code",
   "execution_count": 11,
   "metadata": {
    "collapsed": true
   },
   "outputs": [],
   "source": [
    "def dD_coeff_dtau(T, omint_11, domint_11_dT, n):\n",
    "    return T_wall_2 * 3. * constants.k * (omint_11 - T * domint_11_dT) / (8. * n * mol.mass * omint_11**2)"
   ]
  },
  {
   "cell_type": "code",
   "execution_count": 12,
   "metadata": {
    "collapsed": true
   },
   "outputs": [],
   "source": [
    "def make_vt_rates(T):\n",
    "    res = np.zeros(mol.num_vibr)  # i + 1 -> i\n",
    "    for i in range(mol.num_vibr):\n",
    "        res[i] = ratesvibr.vt_rate_ssh(T, d, mol, i+1, -1)\n",
    "    return res"
   ]
  },
  {
   "cell_type": "code",
   "execution_count": 13,
   "metadata": {
    "collapsed": true
   },
   "outputs": [],
   "source": [
    "def make_reverse_vt_rates(T, rates_vec):\n",
    "    # vec[i] = i + 1 -> i\n",
    "    # need to return i -> i + 1\n",
    "    return rates_vec * np.exp((mol.vibr[:mol.num_vibr] - mol.vibr[1:mol.num_vibr+1]) / (constants.k * T))"
   ]
  },
  {
   "cell_type": "code",
   "execution_count": 14,
   "metadata": {
    "collapsed": true
   },
   "outputs": [],
   "source": [
    "def make_reverse_vv_rates(rates_mat):\n",
    "    # mat[i, k] = (i + 1) + k -> i + (k + 1)\n",
    "    # need to return i + (k + 1)  -> (i + 1) + k\n",
    "    res = np.zeros(mol.num_vibr, mol.num_vibr) \n",
    "    for i in range(mol.num_vibr):\n",
    "        res[i, :] = rates_mat[i, :] * np.exp((mol.vibr[i] + mol.vibr[1:mol.num_vibr+1]\n",
    "                                              - mol.vibr[i+1] - mol.vibr[:mol.num_vibr]) / (constants.k * T))\n",
    "    return res"
   ]
  },
  {
   "cell_type": "code",
   "execution_count": 35,
   "metadata": {
    "collapsed": true
   },
   "outputs": [],
   "source": [
    "def LHS_xi_tau_mat(tau, xi_vec, x_tot, D, lambd_val):\n",
    "    lhs_mat = np.zeros([mol.num_vibr + 2, mol.num_vibr + 2])\n",
    "    lhs_mat[:mol.num_vibr, :mol.num_vibr+1] = 1. / x_tot\n",
    "    for i in range(mol.num_vibr):\n",
    "        for j in range(mol.num_vibr):\n",
    "            if i == j:\n",
    "                lhs_mat[i, j] -= 1. / xi_vec[i]  # TODO - redo via digaonal, needs numpy 1.10\n",
    "    lhs_mat[mol.num_vibr, :mol.num_vibr+1] = tau\n",
    "    lhs_mat[mol.num_vibr, mol.num_vibr+1] = x_tot\n",
    "    lhs_mat[mol.num_vibr+1, :mol.num_vibr+1] = mol.vibr\n",
    "    lhs_mat[mol.num_vibr+1, :mol.num_vibr+1] -= np.dot(mol.vibr, xi_vec) / x_tot\n",
    "    lhs_mat[mol.num_vibr+1, :mol.num_vibr+1] *= D * n_wall_2 / lambd_val\n",
    "    lhs_mat[mol.num_vibr+1, mol.num_vibr+1] = T_wall_2\n",
    "#     print(lhs_mat)\n",
    "#     global global_print\n",
    "#     if global_print:\n",
    "#         for i in range(mol.num_vibr + 2):\n",
    "#             print('MAT', i, np.max(lhs_mat[i, :]))\n",
    "    return lhs_mat"
   ]
  },
  {
   "cell_type": "code",
   "execution_count": 48,
   "metadata": {
    "collapsed": true
   },
   "outputs": [],
   "source": [
    "def RHS_xi_tau_vec(tau, dtau, xi_vec, dxi_vec, x_tot, dx_tot, dvel_val,# flow parameters\n",
    "                   D, dD_dtau, dD_dx, eta_val, deta_val_dtau, lambd_val, dlambd_val_dtau,  # transport coefficients\n",
    "                   R_i_vibr_vec):\n",
    "    rhs_vec = np.zeros(mol.num_vibr + 2)\n",
    "    for i in range(mol.num_vibr):\n",
    "        rhs_vec[i] = 0.\n",
    "    rhs_vec[:mol.num_vibr] = dxi_vec[:mol.num_vibr] * (dxi_vec[:mol.num_vibr] / xi_vec[:mol.num_vibr]**2\n",
    "                                                       - dx_tot / (xi_vec[:mol.num_vibr] * x_tot))\n",
    "    rhs_vec[:mol.num_vibr] += (dD_dx * dx_tot + dD_dtau * dtau) * (dxi_vec[:mol.num_vibr] / xi_vec[:mol.num_vibr]\n",
    "                                                                   - dx_tot / x_tot) / D\n",
    "    rhs_vec[:mol.num_vibr] += (dx_tot / x_tot)**2 - (dxi_vec[:mol.num_vibr] / xi_vec[:mol.num_vibr])**2\n",
    "    global global_print\n",
    "    if global_print:\n",
    "        for i in range(5):\n",
    "            print('RHS - 1', i, rhs_vec[i])\n",
    "    rhs_vec[:mol.num_vibr] += Y**2 * R_i_vibr_vec[:mol.num_vibr] / (D * xi_vec[:mol.num_vibr] * n_wall_2)\n",
    "    rhs_vec[mol.num_vibr] = -2 * dtau * dx_tot\n",
    "    if global_print:\n",
    "        for i in range(5):\n",
    "            print('RHS - 2', i, rhs_vec[i])\n",
    "    \n",
    "#     rhs_tau = 0.\n",
    "#     for i in range(mol.num_vibr + 1):\n",
    "#         rhs_tau -= mol.vibr[i] * ((dD_dx * d_x_tot + dD_dtau * d_tau) * (d_xi_vec[i] - xi_vec[i] * d_x_tot / x_tot)\n",
    "#                                   + D * (xi_vec[i] * (d_x_tot / x_tot)**2) - d_xi_vec[i] * d_x_tot / x_tot)\n",
    "    rhs_tau = -np.dot(mol.vibr, ((dD_dx * dx_tot + dD_dtau * dtau) * (dxi_vec - xi_vec * dx_tot / x_tot)\n",
    "                                 + D * (xi_vec * (dx_tot / x_tot)**2 - dxi_vec * dx_tot / x_tot)))\n",
    "    rhs_tau *= n_wall_2 / lambd_val\n",
    "    rhs_tau -= eta_val * v_wall_2**2 * dvel_val**2 / lambd_val + T_wall_2 * dtau**2 * dlambd_val_dtau / lambd_val\n",
    "    rhs_vec[mol.num_vibr + 1] = rhs_tau\n",
    "#     global global_print\n",
    "#     if global_print:\n",
    "#         for i in range(mol.num_vibr + 2):\n",
    "#             print(i, rhs_vec[i])\n",
    "    return rhs_vec"
   ]
  },
  {
   "cell_type": "code",
   "execution_count": 17,
   "metadata": {
    "collapsed": true
   },
   "outputs": [],
   "source": [
    "def second_derivatives_value_xi_tau_vec(tau, dtau, xi_vec, dxi_vec, x_tot, dx_tot, dvel_val,\n",
    "                                        D, dD_dtau, dD_dx, eta_val, deta_val_dtau, lambd_val, dlambd_val_dtau,\n",
    "                                        R_i_vibr_vec):\n",
    "    \"\"\"\n",
    "    Calculate the values of the second derivatives of variables x_{i} and tau\n",
    "    \"\"\"\n",
    "    lhs_mat = LHS_xi_tau_mat(tau, xi_vec, x_tot, D, lambd_val)\n",
    "    rhs_vec = RHS_xi_tau_vec(tau, dtau, xi_vec, dxi_vec, x_tot, dx_tot, dvel_val,\n",
    "                             D, dD_dtau, dD_dx, eta_val, deta_val_dtau, lambd_val, dlambd_val_dtau,\n",
    "                             R_i_vibr_vec)\n",
    "    \n",
    "    return np.linalg.solve(lhs_mat, rhs_vec)"
   ]
  },
  {
   "cell_type": "code",
   "execution_count": 52,
   "metadata": {
    "collapsed": false
   },
   "outputs": [],
   "source": [
    "def sysvec(y, t):\n",
    "    \"\"\"\n",
    "    Right-hand side of the Couette ODE system in dimensionless variables\n",
    "    d_xi - [0,..,num_vibr]\n",
    "    d2_xi - [num_vibr+1,..,2*num_vibr+1]\n",
    "    d_v - [2*num_vibr+2]\n",
    "    d2_v - [2*num_vibr+3]\n",
    "    d_tau - [2*num_vibr+4]\n",
    "    d2_tau - [2*num_vibr+5]\n",
    "    \"\"\"\n",
    "    rhs_vec = np.zeros(2*mol.num_vibr+6)\n",
    "    R_i_vibr_vec = np.zeros(mol.num_vibr+1)\n",
    "#     x1, x2, dx1, dx2 = y\n",
    "    xi_vec = y[:mol.num_vibr+1]\n",
    "    dxi_vec = y[mol.num_vibr+1:2*mol.num_vibr+2]\n",
    "    vel_val = y[2*mol.num_vibr+2]\n",
    "    dvel_val = y[2*mol.num_vibr+3]\n",
    "    tau = y[2*mol.num_vibr+4]\n",
    "    dtau = y[2*mol.num_vibr+5]\n",
    "    \n",
    "    rhs_vec[:mol.num_vibr+1] = dxi_vec\n",
    "    rhs_vec[2*mol.num_vibr+2] = dvel_val\n",
    "    rhs_vec[2*mol.num_vibr+4] = dtau\n",
    "    \n",
    "    T = tau * T_wall_2\n",
    "    x_tot = np.sum(xi_vec)\n",
    "    dx_tot = np.sum(dxi_vec)\n",
    "    n = n_wall_2 * x_tot\n",
    "    \n",
    "    omint_11 = omegaint.omega(T, 1, 1, d)\n",
    "    domint_11 = (omegaint.omega(T + d_step, 1, 1, d, dimensional=True)\n",
    "                 - omegaint.omega(T - d_step, 1, 1, d, dimensional=True)) / (2. * d_step)\n",
    "    omint_22 = omegaint.omega(T, 2, 2, d)\n",
    "    domint_22 = (omegaint.omega(T + d_step, 2, 2, d, dimensional=True)\n",
    "                 - omegaint.omega(T - d_step, 2, 2, d, dimensional=True)) / (2. * d_step)\n",
    "    \n",
    "    eta_val = eta(T, omint_22)\n",
    "    deta_val_dtau = deta_dtau(T, omint_22, domint_22)\n",
    "    lambd_val = lambd(T, omint_22, omint_11)\n",
    "    dlambd_val_dtau = dlambd_dtau(T, omint_22, domint_22, omint_11, domint_11)\n",
    "    \n",
    "    D = D_coeff(T, omint_11, n)\n",
    "    dD_dx = dD_coeff_dx(T, omint_11, n)\n",
    "    dD_dtau = dD_coeff_dtau(T, omint_11, domint_11, n)\n",
    "    \n",
    "#     vt_rate_down = np.zeros(mol.num_vibr)  # i + 1 -> i\n",
    "    # TODO ADD RATE CALCULATION\n",
    "    vt_rate_down = make_vt_rates(T)\n",
    "    vt_rate_up = make_reverse_vt_rates(T, vt_rate_down)  # i -> i + 1\n",
    "    \n",
    "#     vv_rate_down = np.zeros(mol.num_vibr, mol.num_vibr)  # (i + 1) + k -> i + (k + 1)\n",
    "    # TODO ADD RATE CALCULATION\n",
    "#     vv_rate_up = make_reverse_vv_rates(T, vv_rate_down)   # i + (k + 1)  -> (i + 1) + k\n",
    "    \n",
    "#     for i in range(mol.num_vibr-1):\n",
    "#         R_i_vibr_vec[i+1] = xi_vec[i] * vt_rate_up[i] - xi_vec[i+1] * vt_rate_down[i]\n",
    "#         R_i_vibr_vec[i+1] += xi_vec[i+2] * vt_rate_down[i+1] - xi_vec[i+1] * vt_rate_up[i+1]\n",
    "        \n",
    "    R_i_vibr_vec[1:mol.num_vibr] = xi_vec[:mol.num_vibr-1] * vt_rate_up[:mol.num_vibr-1]\n",
    "    R_i_vibr_vec[1:mol.num_vibr] -= xi_vec[1:mol.num_vibr] * vt_rate_down[:mol.num_vibr-1]\n",
    "    R_i_vibr_vec[1:mol.num_vibr] += xi_vec[2:mol.num_vibr+1] * vt_rate_down[1:mol.num_vibr]\n",
    "    R_i_vibr_vec[1:mol.num_vibr] -= xi_vec[1:mol.num_vibr] * vt_rate_up[1:mol.num_vibr]\n",
    "    \n",
    "    R_i_vibr_vec[0] = xi_vec[1] * vt_rate_down[0] - xi_vec[0] * vt_rate_up[0]\n",
    "    R_i_vibr_vec[mol.num_vibr] = xi_vec[mol.num_vibr - 1] * vt_rate_up[mol.num_vibr - 1]\n",
    "    R_i_vibr_vec[mol.num_vibr] -= xi_vec[mol.num_vibr] * vt_rate_down[mol.num_vibr - 1]\n",
    "    R_i_vibr_vec *= n * n_wall_2  # VT transitions\n",
    "    \n",
    "    # TODO – VV transitions\n",
    "    \n",
    "    d2xi_d2_tau_vec = second_derivatives_value_xi_tau_vec(tau, dtau, xi_vec, dxi_vec, x_tot, dx_tot, dvel_val,\n",
    "                                                          D, dD_dtau, dD_dx, eta_val, deta_val_dtau,\n",
    "                                                          lambd_val, dlambd_val_dtau,\n",
    "                                                          R_i_vibr_vec)\n",
    "    rhs_vec[mol.num_vibr+1:2*mol.num_vibr+2] = d2xi_d2_tau_vec[:mol.num_vibr+1]\n",
    "    rhs_vec[2*mol.num_vibr+3] = - dvel_val * dtau * deta_val_dtau / eta_val\n",
    "    rhs_vec[2*mol.num_vibr+5] = d2xi_d2_tau_vec[mol.num_vibr+1]\n",
    "    \n",
    "    global global_print\n",
    "    if global_print:\n",
    "        for i in range(2*mol.num_vibr + 6):\n",
    "            print(i, rhs_vec[i])\n",
    "        global_print = False\n",
    "        print('R_I', np.sum(R_i_vibr_vec), R_i_vibr_vec[0:10])\n",
    "    return rhs_vec"
   ]
  },
  {
   "cell_type": "code",
   "execution_count": 39,
   "metadata": {
    "collapsed": false
   },
   "outputs": [],
   "source": [
    "def give_solution_dimensionless(start_d_values):\n",
    "    \"\"\"\n",
    "    Returns a solution of the Couette ODE system in dimensionless variables,\n",
    "    given the values of their derivatives on the lower wall\n",
    "    \"\"\"\n",
    "    full_cauchy_vec = np.zeros(2*mol.num_vibr+6)\n",
    "    full_cauchy_vec[:mol.num_vibr+1] = xi_wall_1[:]  # xi\n",
    "    full_cauchy_vec[mol.num_vibr+1:2*mol.num_vibr+2] = start_d_values[:mol.num_vibr+1]  # dxi/dy\n",
    "    full_cauchy_vec[2*mol.num_vibr+2] = 0.  # the velocity is zero\n",
    "    full_cauchy_vec[2*mol.num_vibr+3] = start_d_values[mol.num_vibr+1]\n",
    "    full_cauchy_vec[2*mol.num_vibr+4] = T_wall_1 / T_wall_2\n",
    "    full_cauchy_vec[2*mol.num_vibr+5] = start_d_values[mol.num_vibr+2]\n",
    "    return odeint(sysvec, full_cauchy_vec, y_span)"
   ]
  },
  {
   "cell_type": "code",
   "execution_count": 40,
   "metadata": {
    "collapsed": false
   },
   "outputs": [],
   "source": [
    "def dimensionless_obj(start_d_values):\n",
    "    \"\"\"\n",
    "    The objective function for which we need to find the roots to solve the Couette ODE system, dimensionless version\n",
    "    param_vec is a list containing an approximation of the velocity and temperature derivatives\n",
    "    \"\"\"\n",
    "    res = give_solution_dimensionless(start_d_values)\n",
    "    tmp = np.zeros(mol.num_vibr+3)\n",
    "    \n",
    "#     for i in range(mol.num_vibr+1):\n",
    "#         tmp[i] = res[-1, i] - xi_wall_2[i]\n",
    "    tmp[:mol.num_vibr+1] = res[-1, mol.num_vibr+1] - xi_wall_2[:]\n",
    "    tmp[mol.num_vibr+1] = res[-1, 2*mol.num_vibr+2] - 1\n",
    "    tmp[mol.num_vibr+2] = res[-1, 2*mol.num_vibr+4] - 1\n",
    "    return tmp"
   ]
  },
  {
   "cell_type": "code",
   "execution_count": 41,
   "metadata": {
    "collapsed": false
   },
   "outputs": [],
   "source": [
    "def full_solve_dimensionless():\n",
    "    omint_22 = omegaint.omega(T_wall_1, 2, 2, d)\n",
    "    omint_11 = omegaint.omega(T_wall_1, 2, 2, d)\n",
    "    eta_lw = eta(T_wall_1, omint_22)\n",
    "    lamb_lw = lambd(T_wall_1, omint_22, omint_11)\n",
    "    start_cond_T = (T_wall_2 - T_wall_1 + 0.5 * eta_lw / lamb_lw) / T_wall_1\n",
    "    \n",
    "    start_d_values = np.zeros(mol.num_vibr+3)\n",
    "    start_d_values[:mol.num_vibr+1] = 0.\n",
    "    start_d_values[mol.num_vibr+1] = 1.\n",
    "    start_d_values[mol.num_vibr+2] = start_cond_T\n",
    "    start_d_values = fsolve(dimensionless_obj, start_d_values)\n",
    "    return give_solution_dimensionless(start_d_values)"
   ]
  },
  {
   "cell_type": "code",
   "execution_count": 42,
   "metadata": {
    "collapsed": false
   },
   "outputs": [],
   "source": [
    "def convert_to_dimensional(sol_xi, sol_vx, sol_T):\n",
    "    return [sol_xi * n_wall_2, sol_vx * v_wall_2, sol_T * T_wall_2]"
   ]
  },
  {
   "cell_type": "code",
   "execution_count": 43,
   "metadata": {
    "collapsed": true
   },
   "outputs": [],
   "source": [
    "def create_boltzmann_distribution(T):\n",
    "    v_exp = np.exp(-mol.vibr[:] / (constants.k * T))\n",
    "    return v_exp / np.sum(v_exp)"
   ]
  },
  {
   "cell_type": "code",
   "execution_count": 44,
   "metadata": {
    "collapsed": false
   },
   "outputs": [],
   "source": [
    "mol = particles.Molecule('N2', 'harmonic')\n",
    "d = loaddata.load_elastic_parameters(mol, mol)"
   ]
  },
  {
   "cell_type": "code",
   "execution_count": 45,
   "metadata": {
    "collapsed": true
   },
   "outputs": [],
   "source": [
    "v_wall_2 = 300.  # the velocity of the moving wall\n",
    "T_wall_2 = 1000.  # the temperature of the moving wall\n",
    "T_wall_1 = 1000.  # the temperature of the stationary wall\n",
    "n_wall_1 = 10.**21\n",
    "n_wall_2 = 10.**21\n",
    "xi_wall_1 = create_boltzmann_distribution(T_wall_1) * n_wall_1 / n_wall_2\n",
    "xi_wall_2 = create_boltzmann_distribution(T_wall_2)\n",
    "Y = 1.  # the distance between the walls"
   ]
  },
  {
   "cell_type": "code",
   "execution_count": 46,
   "metadata": {
    "collapsed": false
   },
   "outputs": [],
   "source": [
    "d_step = 5.\n",
    "points = 100.\n",
    "points_per_meter = 100\n",
    "y_span = np.linspace(0, 1., points)"
   ]
  },
  {
   "cell_type": "code",
   "execution_count": 53,
   "metadata": {
    "collapsed": false
   },
   "outputs": [
    {
     "name": "stdout",
     "output_type": "stream",
     "text": [
      "RHS - 1 0 0.0\n",
      "RHS - 1 1 0.0\n",
      "RHS - 1 2 0.0\n",
      "RHS - 1 3 0.0\n",
      "RHS - 1 4 0.0\n",
      "RHS - 2 0 3.20482149211e-19\n",
      "RHS - 2 1 -9.2421891199e-18\n",
      "RHS - 2 2 -1.08165080328e-17\n",
      "RHS - 2 3 5.8567628645e-17\n",
      "RHS - 2 4 -1.68011548988e-17\n",
      "0 0.0\n",
      "1 0.0\n",
      "2 0.0\n",
      "3 0.0\n",
      "4 0.0\n",
      "5 0.0\n",
      "6 0.0\n",
      "7 0.0\n",
      "8 0.0\n",
      "9 0.0\n",
      "10 0.0\n",
      "11 0.0\n",
      "12 0.0\n",
      "13 0.0\n",
      "14 0.0\n",
      "15 0.0\n",
      "16 0.0\n",
      "17 0.0\n",
      "18 0.0\n",
      "19 0.0\n",
      "20 0.0\n",
      "21 0.0\n",
      "22 0.0\n",
      "23 0.0\n",
      "24 0.0\n",
      "25 0.0\n",
      "26 0.0\n",
      "27 0.0\n",
      "28 0.0\n",
      "29 0.0\n",
      "30 0.0\n",
      "31 0.0\n",
      "32 0.0\n",
      "33 0.0575704329269\n",
      "34 0.0019339275675\n",
      "35 6.49652199262e-05\n",
      "36 2.18233602488e-06\n",
      "37 7.33098499611e-08\n",
      "38 2.46265196562e-09\n",
      "39 8.27263281401e-11\n",
      "40 2.77897383109e-12\n",
      "41 9.3352330842e-14\n",
      "42 3.13592649781e-15\n",
      "43 1.05343218653e-16\n",
      "44 3.53872889685e-18\n",
      "45 1.18874307863e-19\n",
      "46 3.99327031873e-21\n",
      "47 1.34143433726e-22\n",
      "48 4.5061965195e-24\n",
      "49 1.51373842971e-25\n",
      "50 5.08500688698e-27\n",
      "51 1.70817457846e-28\n",
      "52 5.73816408778e-30\n",
      "53 1.92758559421e-31\n",
      "54 6.47521779815e-33\n",
      "55 2.17517944e-34\n",
      "56 7.30694432785e-36\n",
      "57 2.45457613421e-37\n",
      "58 8.24550417834e-39\n",
      "59 2.76986067808e-40\n",
      "60 9.30461983895e-42\n",
      "61 3.12564278169e-43\n",
      "62 1.04997764206e-44\n",
      "63 3.52712426153e-46\n",
      "64 1.18484480602e-47\n",
      "65 1.87258691073e-17\n",
      "66 1.0\n",
      "67 -2.50510118949e-07\n",
      "68 3.87268710601e-07\n",
      "69 -0.0595715839085\n",
      "R_I -7.56339435526e-16 [  3.67341985e+02  -3.55862548e+02  -1.39905639e+01   2.54475801e+00\n",
      "  -2.45227231e-02  -9.54634579e-03   4.40642681e-04  -2.65138259e-06\n",
      "  -5.07825295e-08  -3.45788934e-08]\n",
      "Excess work done on this call (perhaps wrong Dfun type).\n",
      "Run with full_output = 1 to get quantitative information.\n",
      "Excess work done on this call (perhaps wrong Dfun type).\n",
      "Run with full_output = 1 to get quantitative information.\n",
      "Excess work done on this call (perhaps wrong Dfun type).\n",
      "Run with full_output = 1 to get quantitative information.\n",
      "Excess work done on this call (perhaps wrong Dfun type).\n",
      "Run with full_output = 1 to get quantitative information.\n",
      "Excess work done on this call (perhaps wrong Dfun type).\n",
      "Run with full_output = 1 to get quantitative information.\n",
      "Excess work done on this call (perhaps wrong Dfun type).\n",
      "Run with full_output = 1 to get quantitative information.\n",
      "Excess work done on this call (perhaps wrong Dfun type).\n",
      "Run with full_output = 1 to get quantitative information.\n",
      "Excess work done on this call (perhaps wrong Dfun type).\n",
      "Run with full_output = 1 to get quantitative information.\n",
      "Excess work done on this call (perhaps wrong Dfun type).\n",
      "Run with full_output = 1 to get quantitative information.\n",
      "Excess work done on this call (perhaps wrong Dfun type).\n",
      "Run with full_output = 1 to get quantitative information.\n",
      "Excess work done on this call (perhaps wrong Dfun type).\n",
      "Run with full_output = 1 to get quantitative information.\n",
      "Excess work done on this call (perhaps wrong Dfun type).\n",
      "Run with full_output = 1 to get quantitative information.\n",
      "Excess work done on this call (perhaps wrong Dfun type).\n",
      "Run with full_output = 1 to get quantitative information.\n",
      "Excess work done on this call (perhaps wrong Dfun type).\n",
      "Run with full_output = 1 to get quantitative information.\n",
      "Excess work done on this call (perhaps wrong Dfun type).\n",
      "Run with full_output = 1 to get quantitative information.\n",
      "Excess work done on this call (perhaps wrong Dfun type).\n",
      "Run with full_output = 1 to get quantitative information.\n",
      "Excess work done on this call (perhaps wrong Dfun type).\n",
      "Run with full_output = 1 to get quantitative information.\n",
      "Excess work done on this call (perhaps wrong Dfun type).\n",
      "Run with full_output = 1 to get quantitative information.\n"
     ]
    },
    {
     "name": "stderr",
     "output_type": "stream",
     "text": [
      "/Users/georgeoblapenko/anaconda/envs/py34/lib/python3.4/site-packages/scipy/optimize/minpack.py:237: RuntimeWarning: The iteration is not making good progress, as measured by the \n",
      "  improvement from the last ten iterations.\n",
      "  warnings.warn(msg, RuntimeWarning)\n"
     ]
    }
   ],
   "source": [
    "global_print = True\n",
    "sol_dimless = full_solve_dimensionless()"
   ]
  },
  {
   "cell_type": "code",
   "execution_count": null,
   "metadata": {
    "collapsed": false
   },
   "outputs": [],
   "source": [
    "sol_dimless.shape"
   ]
  },
  {
   "cell_type": "code",
   "execution_count": null,
   "metadata": {
    "collapsed": false
   },
   "outputs": [],
   "source": [
    "s2 = convert_to_dimensional(sol_dimless[:, :mol.num_vibr+1],\n",
    "                            sol_dimless[:, mol.num_vibr+1],\n",
    "                            sol_dimless[:, mol.num_vibr+2])"
   ]
  },
  {
   "cell_type": "code",
   "execution_count": null,
   "metadata": {
    "collapsed": false
   },
   "outputs": [],
   "source": [
    "s2[2]"
   ]
  },
  {
   "cell_type": "code",
   "execution_count": null,
   "metadata": {
    "collapsed": true
   },
   "outputs": [],
   "source": []
  }
 ],
 "metadata": {
  "kernelspec": {
   "display_name": "Python 3",
   "language": "python",
   "name": "python3"
  },
  "language_info": {
   "codemirror_mode": {
    "name": "ipython",
    "version": 3
   },
   "file_extension": ".py",
   "mimetype": "text/x-python",
   "name": "python",
   "nbconvert_exporter": "python",
   "pygments_lexer": "ipython3",
   "version": "3.4.3"
  }
 },
 "nbformat": 4,
 "nbformat_minor": 0
}
