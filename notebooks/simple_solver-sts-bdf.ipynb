{
 "cells": [
  {
   "cell_type": "code",
   "execution_count": 2,
   "metadata": {
    "collapsed": false
   },
   "outputs": [],
   "source": [
    "from kineticlib import particles, omegaint, loaddata, ratesvibr\n",
    "from scipy import constants\n",
    "from scipy.integrate import ode\n",
    "from scipy.optimize import fsolve\n",
    "import numpy as np\n",
    "import matplotlib.pyplot as plt"
   ]
  },
  {
   "cell_type": "code",
   "execution_count": 3,
   "metadata": {
    "collapsed": false
   },
   "outputs": [],
   "source": [
    "%matplotlib inline"
   ]
  },
  {
   "cell_type": "code",
   "execution_count": 4,
   "metadata": {
    "collapsed": false
   },
   "outputs": [],
   "source": [
    "d_T_step = 2."
   ]
  },
  {
   "cell_type": "code",
   "execution_count": 5,
   "metadata": {
    "collapsed": false
   },
   "outputs": [],
   "source": [
    "global global_print\n",
    "global_print = True"
   ]
  },
  {
   "cell_type": "code",
   "execution_count": 6,
   "metadata": {
    "collapsed": false
   },
   "outputs": [],
   "source": [
    "def eta(T, omint_22):\n",
    "    return 5. * constants.k * T / (8. * omint_22)"
   ]
  },
  {
   "cell_type": "code",
   "execution_count": 7,
   "metadata": {
    "collapsed": true
   },
   "outputs": [],
   "source": [
    "def deta_dtau(T, omint_22, domint_22_dT):\n",
    "    return T_wall_2 * 5. * constants.k * (omint_22 - T * domint_22_dT) / (8. * omint_22**2)"
   ]
  },
  {
   "cell_type": "code",
   "execution_count": 8,
   "metadata": {
    "collapsed": false
   },
   "outputs": [],
   "source": [
    "def lambd(T, omint_22, omint_11):\n",
    "    return constants.k**2 * T * (75. / (32. * mol.mass * omint_22) + 3. / (8. * mol.mass * omint_11))"
   ]
  },
  {
   "cell_type": "code",
   "execution_count": 9,
   "metadata": {
    "collapsed": true
   },
   "outputs": [],
   "source": [
    "def dlambd_dtau(T, omint_22, domint_22_dT, omint_11, domint_11_dT):\n",
    "    return T_wall_2 * constants.k**2 * (75. * (omint_22 - T * domint_22_dT) / (32. * mol.mass * omint_22**2) + \n",
    "                                        3. * (omint_11 - T * domint_11_dT) / (8. * mol.mass * omint_11**2))"
   ]
  },
  {
   "cell_type": "code",
   "execution_count": 10,
   "metadata": {
    "collapsed": true
   },
   "outputs": [],
   "source": [
    "def D_coeff(T, omint_11, n):\n",
    "    return (3. * constants.k * T) / (8. * n * mol.mass * omint_11)"
   ]
  },
  {
   "cell_type": "code",
   "execution_count": 11,
   "metadata": {
    "collapsed": true
   },
   "outputs": [],
   "source": [
    "def dD_coeff_dx(T, omint_11, n):\n",
    "    return -3. * constants.k * T * n_wall_2 / (8. * n**2 * mol.mass * omint_11)"
   ]
  },
  {
   "cell_type": "code",
   "execution_count": 12,
   "metadata": {
    "collapsed": true
   },
   "outputs": [],
   "source": [
    "def dD_coeff_dtau(T, omint_11, domint_11_dT, n):\n",
    "    return T_wall_2 * 3. * constants.k * (omint_11 - T * domint_11_dT) / (8. * n * mol.mass * omint_11**2)"
   ]
  },
  {
   "cell_type": "code",
   "execution_count": 13,
   "metadata": {
    "collapsed": true
   },
   "outputs": [],
   "source": [
    "def make_vt_rates(T):\n",
    "    res = np.zeros(mol.num_vibr)  # i + 1 -> i\n",
    "    for i in range(mol.num_vibr):\n",
    "        res[i] = ratesvibr.vt_rate_ssh(T, d, mol, i+1, -1)\n",
    "    return res"
   ]
  },
  {
   "cell_type": "code",
   "execution_count": 14,
   "metadata": {
    "collapsed": true
   },
   "outputs": [],
   "source": [
    "def make_reverse_vt_rates(T, rates_vec):\n",
    "    # vec[i] = i + 1 -> i\n",
    "    # need to return i -> i + 1\n",
    "    return rates_vec * np.exp((mol.vibr[:mol.num_vibr] - mol.vibr[1:mol.num_vibr+1]) / (constants.k * T))"
   ]
  },
  {
   "cell_type": "code",
   "execution_count": 15,
   "metadata": {
    "collapsed": true
   },
   "outputs": [],
   "source": [
    "def make_reverse_vv_rates(rates_mat):\n",
    "    # mat[i, k] = (i + 1) + k -> i + (k + 1)\n",
    "    # need to return i + (k + 1)  -> (i + 1) + k\n",
    "    res = np.zeros(mol.num_vibr, mol.num_vibr) \n",
    "    for i in range(mol.num_vibr):\n",
    "        res[i, :] = rates_mat[i, :] * np.exp((mol.vibr[i] + mol.vibr[1:mol.num_vibr+1]\n",
    "                                              - mol.vibr[i+1] - mol.vibr[:mol.num_vibr]) / (constants.k * T))\n",
    "    return res"
   ]
  },
  {
   "cell_type": "code",
   "execution_count": 16,
   "metadata": {
    "collapsed": true
   },
   "outputs": [],
   "source": [
    "def LHS_xi_tau_mat(tau, xi_vec, x_tot, D, lambd_val):\n",
    "    lhs_mat = np.zeros([mol.num_vibr + 2, mol.num_vibr + 2])\n",
    "    lhs_mat[:mol.num_vibr, :mol.num_vibr+1] = 1. / x_tot\n",
    "    for i in range(mol.num_vibr):\n",
    "        for j in range(mol.num_vibr):\n",
    "            if i == j:\n",
    "                lhs_mat[i, j] -= 1. / xi_vec[i]\n",
    "    lhs_mat[mol.num_vibr, :mol.num_vibr+1] = tau\n",
    "    lhs_mat[mol.num_vibr, mol.num_vibr+1] = x_tot\n",
    "    lhs_mat[mol.num_vibr+1, :mol.num_vibr+1] = mol.vibr\n",
    "    lhs_mat[mol.num_vibr+1, :mol.num_vibr+1] -= np.dot(mol.vibr, xi_vec) / x_tot\n",
    "    lhs_mat[mol.num_vibr+1, :mol.num_vibr+1] *= D * n_wall_2 / lambd_val\n",
    "    lhs_mat[mol.num_vibr+1, mol.num_vibr+1] = T_wall_2\n",
    "#     print(lhs_mat)\n",
    "#     global global_print\n",
    "#     if global_print:\n",
    "#         for i in range(mol.num_vibr + 2):\n",
    "#             print('MAT', i, np.max(lhs_mat[i, :]))\n",
    "    return lhs_mat"
   ]
  },
  {
   "cell_type": "code",
   "execution_count": 17,
   "metadata": {
    "collapsed": true
   },
   "outputs": [],
   "source": [
    "def RHS_xi_tau_vec(tau, dtau, xi_vec, dxi_vec, x_tot, dx_tot, dvel_val,# flow parameters\n",
    "                   D, dD_dtau, dD_dx, eta_val, deta_val_dtau, lambd_val, dlambd_val_dtau,  # transport coefficients\n",
    "                   R_i_vibr_vec):\n",
    "    rhs_vec = np.zeros(mol.num_vibr + 2)\n",
    "    for i in range(mol.num_vibr):\n",
    "        rhs_vec[i] = 0.\n",
    "    rhs_vec[:mol.num_vibr] = dxi_vec[:mol.num_vibr] * (dxi_vec[:mol.num_vibr] / xi_vec[:mol.num_vibr]**2\n",
    "                                                       - dx_tot / (xi_vec[:mol.num_vibr] * x_tot))\n",
    "    rhs_vec[:mol.num_vibr] += (dD_dx * dx_tot + dD_dtau * dtau) * (dxi_vec[:mol.num_vibr] / xi_vec[:mol.num_vibr]\n",
    "                                                                   - dx_tot / x_tot) / D\n",
    "    rhs_vec[:mol.num_vibr] += (dx_tot / x_tot)**2 - (dxi_vec[:mol.num_vibr] / xi_vec[:mol.num_vibr])**2\n",
    "    global global_print\n",
    "    if global_print:\n",
    "        for i in range(5):\n",
    "            print('RHS - 1', i, rhs_vec[i])\n",
    "    rhs_vec[:mol.num_vibr] += Y**2 * R_i_vibr_vec[:mol.num_vibr] / (D * xi_vec[:mol.num_vibr] * n_wall_2)\n",
    "    rhs_vec[mol.num_vibr] = -2 * dtau * dx_tot\n",
    "    if global_print:\n",
    "        for i in range(5):\n",
    "            print('RHS - 2', i, rhs_vec[i])\n",
    "    \n",
    "#     rhs_tau = 0.\n",
    "#     for i in range(mol.num_vibr + 1):\n",
    "#         rhs_tau -= mol.vibr[i] * ((dD_dx * d_x_tot + dD_dtau * d_tau) * (d_xi_vec[i] - xi_vec[i] * d_x_tot / x_tot)\n",
    "#                                   + D * (xi_vec[i] * (d_x_tot / x_tot)**2) - d_xi_vec[i] * d_x_tot / x_tot)\n",
    "    rhs_tau = -np.dot(mol.vibr, (dD_dx * dx_tot + dD_dtau * dtau) * (dxi_vec - xi_vec * dx_tot / x_tot)\n",
    "                                + D * (xi_vec * (dx_tot / x_tot)**2 - dxi_vec * dx_tot / x_tot))\n",
    "    rhs_tau *= n_wall_2 / lambd_val\n",
    "    rhs_tau -= eta_val * (v_wall_2 * dvel_val)**2 / lambd_val + T_wall_2 * dtau**2 * dlambd_val_dtau / lambd_val\n",
    "    rhs_vec[mol.num_vibr + 1] = rhs_tau\n",
    "#     global global_print\n",
    "#     if global_print:\n",
    "#         for i in range(mol.num_vibr + 2):\n",
    "#             print(i, rhs_vec[i])\n",
    "    return rhs_vec"
   ]
  },
  {
   "cell_type": "code",
   "execution_count": 18,
   "metadata": {
    "collapsed": true
   },
   "outputs": [],
   "source": [
    "def second_derivatives_value_xi_tau_vec(tau, dtau, xi_vec, dxi_vec, x_tot, dx_tot, dvel_val,\n",
    "                                        D, dD_dtau, dD_dx, eta_val, deta_val_dtau, lambd_val, dlambd_val_dtau,\n",
    "                                        R_i_vibr_vec):\n",
    "    \"\"\"\n",
    "    Calculate the values of the second derivatives of variables x_{i} and tau\n",
    "    \"\"\"\n",
    "    lhs_mat = LHS_xi_tau_mat(tau, xi_vec, x_tot, D, lambd_val)\n",
    "    rhs_vec = RHS_xi_tau_vec(tau, dtau, xi_vec, dxi_vec, x_tot, dx_tot, dvel_val,\n",
    "                             D, dD_dtau, dD_dx, eta_val, deta_val_dtau, lambd_val, dlambd_val_dtau,\n",
    "                             R_i_vibr_vec)\n",
    "    \n",
    "    return np.linalg.solve(lhs_mat, rhs_vec)"
   ]
  },
  {
   "cell_type": "code",
   "execution_count": 30,
   "metadata": {
    "collapsed": false
   },
   "outputs": [],
   "source": [
    "def sysvec(t, y):\n",
    "    \"\"\"\n",
    "    Right-hand side of the Couette ODE system in dimensionless variables\n",
    "    d_xi - [0,..,num_vibr]\n",
    "    d2_xi - [num_vibr+1,..,2*num_vibr+1]\n",
    "    d_v - [2*num_vibr+2]\n",
    "    d2_v - [2*num_vibr+3]\n",
    "    d_tau - [2*num_vibr+4]\n",
    "    d2_tau - [2*num_vibr+5]\n",
    "    \"\"\"\n",
    "    rhs_vec = np.zeros(2*mol.num_vibr+6)\n",
    "    R_i_vibr_vec = np.zeros(mol.num_vibr+1)\n",
    "#     x1, x2, dx1, dx2 = y\n",
    "    xi_vec = y[:mol.num_vibr+1]\n",
    "    dxi_vec = y[mol.num_vibr+1:2*mol.num_vibr+2]\n",
    "    vel_val = y[2*mol.num_vibr+2]\n",
    "    dvel_val = y[2*mol.num_vibr+3]\n",
    "    tau = y[2*mol.num_vibr+4]\n",
    "    dtau = y[2*mol.num_vibr+5]\n",
    "    \n",
    "    rhs_vec[:mol.num_vibr+1] = dxi_vec\n",
    "    rhs_vec[2*mol.num_vibr+2] = dvel_val\n",
    "    rhs_vec[2*mol.num_vibr+4] = dtau\n",
    "    \n",
    "    T = tau * T_wall_2\n",
    "    x_tot = np.sum(xi_vec)\n",
    "    dx_tot = np.sum(dxi_vec)\n",
    "    n = n_wall_2 * x_tot\n",
    "    ni_vec = xi_vec * n_wall_2\n",
    "    \n",
    "    omint_11 = omegaint.omega(T, 1, 1, d)\n",
    "    domint_11 = (omegaint.omega(T + d_step, 1, 1, d, dimensional=True)\n",
    "                 - omegaint.omega(T - d_step, 1, 1, d, dimensional=True)) / (2. * d_step)\n",
    "    omint_22 = omegaint.omega(T, 2, 2, d)\n",
    "    domint_22 = (omegaint.omega(T + d_step, 2, 2, d, dimensional=True)\n",
    "                 - omegaint.omega(T - d_step, 2, 2, d, dimensional=True)) / (2. * d_step)\n",
    "    \n",
    "    eta_val = eta(T, omint_22)\n",
    "    deta_val_dtau = deta_dtau(T, omint_22, domint_22)\n",
    "    lambd_val = lambd(T, omint_22, omint_11)\n",
    "    dlambd_val_dtau = dlambd_dtau(T, omint_22, domint_22, omint_11, domint_11)\n",
    "    \n",
    "    D = D_coeff(T, omint_11, n)\n",
    "    dD_dx = dD_coeff_dx(T, omint_11, n)\n",
    "    dD_dtau = dD_coeff_dtau(T, omint_11, domint_11, n)\n",
    "    \n",
    "#     vt_rate_down = np.zeros(mol.num_vibr)  # i + 1 -> i\n",
    "    # TODO ADD RATE CALCULATION\n",
    "    vt_rate_down = make_vt_rates(T)\n",
    "    vt_rate_up = make_reverse_vt_rates(T, vt_rate_down)  # i -> i + 1\n",
    "    \n",
    "#     vv_rate_down = np.zeros(mol.num_vibr, mol.num_vibr)  # (i + 1) + k -> i + (k + 1)\n",
    "    # TODO ADD RATE CALCULATION\n",
    "#     vv_rate_up = make_reverse_vv_rates(T, vv_rate_down)   # i + (k + 1)  -> (i + 1) + k\n",
    "    \n",
    "#     for i in range(mol.num_vibr-1):\n",
    "#         R_i_vibr_vec[i+1] = xi_vec[i] * vt_rate_up[i] - xi_vec[i+1] * vt_rate_down[i]\n",
    "#         R_i_vibr_vec[i+1] += xi_vec[i+2] * vt_rate_down[i+1] - xi_vec[i+1] * vt_rate_up[i+1]\n",
    "        \n",
    "    R_i_vibr_vec[1:mol.num_vibr] = ni_vec[:mol.num_vibr-1] * vt_rate_up[:mol.num_vibr-1]\n",
    "    R_i_vibr_vec[1:mol.num_vibr] -= ni_vec[1:mol.num_vibr] * vt_rate_down[:mol.num_vibr-1]\n",
    "    R_i_vibr_vec[1:mol.num_vibr] += ni_vec[2:mol.num_vibr+1] * vt_rate_down[1:mol.num_vibr]\n",
    "    R_i_vibr_vec[1:mol.num_vibr] -= ni_vec[1:mol.num_vibr] * vt_rate_up[1:mol.num_vibr]\n",
    "    \n",
    "    R_i_vibr_vec[0] = ni_vec[1] * vt_rate_down[0] - ni_vec[0] * vt_rate_up[0]\n",
    "    R_i_vibr_vec[mol.num_vibr] = ni_vec[mol.num_vibr - 1] * vt_rate_up[mol.num_vibr - 1]\n",
    "    R_i_vibr_vec[mol.num_vibr] -= ni_vec[mol.num_vibr] * vt_rate_down[mol.num_vibr - 1]\n",
    "    R_i_vibr_vec *= n  # VT transitions\n",
    "    \n",
    "    # TODO – VV transitions\n",
    "    \n",
    "    d2xi_d2_tau_vec = second_derivatives_value_xi_tau_vec(tau, dtau, xi_vec, dxi_vec, x_tot, dx_tot, dvel_val,\n",
    "                                                          D, dD_dtau, dD_dx, eta_val, deta_val_dtau,\n",
    "                                                          lambd_val, dlambd_val_dtau,\n",
    "                                                          R_i_vibr_vec)\n",
    "    rhs_vec[mol.num_vibr+1:2*mol.num_vibr+2] = d2xi_d2_tau_vec[:mol.num_vibr+1]\n",
    "    rhs_vec[2*mol.num_vibr+3] = - dvel_val * dtau * deta_val_dtau / eta_val\n",
    "    rhs_vec[2*mol.num_vibr+5] = d2xi_d2_tau_vec[mol.num_vibr+1]\n",
    "    \n",
    "    global global_print\n",
    "    if global_print:\n",
    "        for i in range(2*mol.num_vibr + 6):\n",
    "            print(i, rhs_vec[i])\n",
    "        global_print = False\n",
    "    return rhs_vec"
   ]
  },
  {
   "cell_type": "code",
   "execution_count": 144,
   "metadata": {
    "collapsed": false
   },
   "outputs": [],
   "source": [
    "def give_solution_upper_dimensionless(start_d_values):\n",
    "    \"\"\"\n",
    "    Returns the values of solution of the Couette ODE system in dimensionless variables on the upper wall,\n",
    "    given the values of their derivatives on the lower wall\n",
    "    \"\"\"\n",
    "    full_cauchy_vec = np.zeros(2*mol.num_vibr+6)\n",
    "    full_cauchy_vec[:mol.num_vibr+1] = xi_wall_1[:]  # xi\n",
    "    full_cauchy_vec[mol.num_vibr+1:2*mol.num_vibr+2] = start_d_values[:mol.num_vibr+1]  # dxi/dy\n",
    "    full_cauchy_vec[2*mol.num_vibr+2] = 0.  # the velocity is zero\n",
    "    full_cauchy_vec[2*mol.num_vibr+3] = start_d_values[mol.num_vibr+1]\n",
    "    full_cauchy_vec[2*mol.num_vibr+4] = T_wall_1 / T_wall_2\n",
    "    full_cauchy_vec[2*mol.num_vibr+5] = start_d_values[mol.num_vibr+2]\n",
    "    \n",
    "    r = ode(sysvec).set_integrator('vode', method='bdf', order=5)\n",
    "    r.set_initial_value(full_cauchy_vec)\n",
    "    \n",
    "    while r.successful() and r.t < 1.:\n",
    "        r.integrate(r.t+dt)\n",
    "    return r.y"
   ]
  },
  {
   "cell_type": "code",
   "execution_count": 145,
   "metadata": {
    "collapsed": true
   },
   "outputs": [],
   "source": [
    "def give_solution_dimensionless(start_d_values, points_amt):\n",
    "    \"\"\"\n",
    "    Returns the solution of the Couette ODE system in dimensionless variables,\n",
    "    given the values of their derivatives on the lower wall\n",
    "    \"\"\"\n",
    "    full_cauchy_vec = np.zeros(2*mol.num_vibr+6)\n",
    "    full_cauchy_vec[:mol.num_vibr+1] = xi_wall_1[:]  # xi\n",
    "    full_cauchy_vec[mol.num_vibr+1:2*mol.num_vibr+2] = start_d_values[:mol.num_vibr+1]  # dxi/dy\n",
    "    full_cauchy_vec[2*mol.num_vibr+2] = 0.  # the velocity is zero\n",
    "    full_cauchy_vec[2*mol.num_vibr+3] = start_d_values[mol.num_vibr+1]\n",
    "    full_cauchy_vec[2*mol.num_vibr+4] = T_wall_1 / T_wall_2\n",
    "    full_cauchy_vec[2*mol.num_vibr+5] = start_d_values[mol.num_vibr+2]\n",
    "    \n",
    "    res = np.zeros([2*mol.num_vibr+6, points_amt])\n",
    "    \n",
    "    r = ode(sysvec).set_integrator('vode', method='bdf', order=5)\n",
    "    r.set_initial_value(full_cauchy_vec)\n",
    "    \n",
    "    res[:, 0] = full_cauchy_vec[:]\n",
    "    curr_point = 1\n",
    "    while r.successful() and r.t < 1.:\n",
    "        res[:, curr_point] = r.integrate(r.t+dt)\n",
    "        curr_point += 1\n",
    "    return res"
   ]
  },
  {
   "cell_type": "code",
   "execution_count": 160,
   "metadata": {
    "collapsed": false
   },
   "outputs": [],
   "source": [
    "def dimensionless_obj(start_d_values):\n",
    "    \"\"\"\n",
    "    The objective function for which we need to find the roots to solve the Couette ODE system, dimensionless version\n",
    "    param_vec is a list containing an approximation of the velocity and temperature derivatives\n",
    "    \"\"\"\n",
    "    res = give_solution_upper_dimensionless(start_d_values)\n",
    "    tmp = np.zeros(mol.num_vibr+3)\n",
    "    \n",
    "#     for i in range(mol.num_vibr+1):\n",
    "#         tmp[i] = res[-1, i] - xi_wall_2[i]\n",
    "    tmp[:mol.num_vibr+1] = res[:mol.num_vibr+1] / xi_wall_2[:] - 1.\n",
    "#     tmp[:mol.num_vibr+1] = res[-1, :mol.num_vibr+1] - xi_wall_2[:]\n",
    "    tmp[mol.num_vibr+1] = res[2*mol.num_vibr+2] - 1\n",
    "    tmp[mol.num_vibr+2] = res[2*mol.num_vibr+4] - 1\n",
    "    return tmp"
   ]
  },
  {
   "cell_type": "code",
   "execution_count": 77,
   "metadata": {
    "collapsed": false
   },
   "outputs": [],
   "source": [
    "def full_solve_dimensionless():\n",
    "    omint_22 = omegaint.omega(T_wall_1, 2, 2, d)\n",
    "    omint_11 = omegaint.omega(T_wall_1, 2, 2, d)\n",
    "    eta_lw = eta(T_wall_1, omint_22)\n",
    "    lamb_lw = lambd(T_wall_1, omint_22, omint_11)\n",
    "    start_cond_T = (T_wall_2 - T_wall_1 + 0.5 * eta_lw / lamb_lw) / T_wall_1\n",
    "    \n",
    "    start_d_values = np.zeros(mol.num_vibr+3)\n",
    "    start_d_values[:mol.num_vibr+1] = 0.\n",
    "    start_d_values[mol.num_vibr+1] = 1.\n",
    "    start_d_values[mol.num_vibr+2] = start_cond_T\n",
    "    start_d_values = fsolve(dimensionless_obj, start_d_values)\n",
    "    return give_solution_dimensionless(start_d_values, points_amt)"
   ]
  },
  {
   "cell_type": "code",
   "execution_count": 70,
   "metadata": {
    "collapsed": false
   },
   "outputs": [],
   "source": [
    "def convert_to_dimensional(sol_xi, sol_vx, sol_T):\n",
    "    return [sol_xi * n_wall_2, sol_vx * v_wall_2, sol_T * T_wall_2]"
   ]
  },
  {
   "cell_type": "code",
   "execution_count": 71,
   "metadata": {
    "collapsed": true
   },
   "outputs": [],
   "source": [
    "def create_boltzmann_distribution(T):\n",
    "    v_exp = np.exp(-mol.vibr[:] / (constants.k * T))\n",
    "    return v_exp / np.sum(v_exp)"
   ]
  },
  {
   "cell_type": "code",
   "execution_count": 72,
   "metadata": {
    "collapsed": false
   },
   "outputs": [],
   "source": [
    "mol = particles.Molecule('N2', 'harmonic')\n",
    "d = loaddata.load_elastic_parameters(mol, mol)"
   ]
  },
  {
   "cell_type": "code",
   "execution_count": 121,
   "metadata": {
    "collapsed": true
   },
   "outputs": [],
   "source": [
    "v_wall_2 = 300.  # the velocity of the moving wall\n",
    "T_wall_2 = 1000.  # the temperature of the moving wall\n",
    "T_wall_1 = 1000.  # the temperature of the stationary wall\n",
    "n_wall_1 = 10.**21\n",
    "n_wall_2 = 10.**21\n",
    "xi_wall_1 = create_boltzmann_distribution(T_wall_1) * n_wall_1 / n_wall_2\n",
    "xi_wall_2 = create_boltzmann_distribution(T_wall_2)\n",
    "Y = 1.  # the distance between the walls"
   ]
  },
  {
   "cell_type": "code",
   "execution_count": 109,
   "metadata": {
    "collapsed": false
   },
   "outputs": [],
   "source": [
    "d_step = 5.\n",
    "dt = 0.01\n",
    "points_amt = int(1 / dt) + 1"
   ]
  },
  {
   "cell_type": "code",
   "execution_count": 161,
   "metadata": {
    "collapsed": false
   },
   "outputs": [],
   "source": [
    "global_print = True\n",
    "global_print = False\n",
    "sol_dimless = full_solve_dimensionless()"
   ]
  },
  {
   "cell_type": "code",
   "execution_count": 162,
   "metadata": {
    "collapsed": false
   },
   "outputs": [
    {
     "data": {
      "text/plain": [
       "(70, 101)"
      ]
     },
     "execution_count": 162,
     "metadata": {},
     "output_type": "execute_result"
    }
   ],
   "source": [
    "sol_dimless.shape"
   ]
  },
  {
   "cell_type": "code",
   "execution_count": 163,
   "metadata": {
    "collapsed": false
   },
   "outputs": [],
   "source": [
    "s2 = convert_to_dimensional(sol_dimless[:mol.num_vibr+1, :],\n",
    "                            sol_dimless[2*mol.num_vibr+2, :],\n",
    "                            sol_dimless[2*mol.num_vibr+4, :])"
   ]
  },
  {
   "cell_type": "code",
   "execution_count": 164,
   "metadata": {
    "collapsed": false
   },
   "outputs": [
    {
     "data": {
      "text/plain": [
       "array([  9.96486737e+20,   3.34782815e+19,   1.12474685e+18,\n",
       "         3.77873481e+16,   1.26951559e+15,   4.26510433e+13,\n",
       "         1.43291779e+12,   4.81407542e+10,   1.61735182e+09,\n",
       "         5.43370564e+07,   1.82552469e+06,   6.13308964e+04,\n",
       "         2.06049189e+03,   6.92249265e+01,   2.32570215e+00,\n",
       "         7.81350116e-02,   2.62504810e-03,   8.81919298e-05,\n",
       "         2.96292339e-06,   9.95432915e-08,   3.34428721e-09,\n",
       "         1.12355707e-10,   3.77473700e-12,   1.26823573e-13,\n",
       "        -1.37556113e-15,   3.38152037e-12,  -1.38632593e-09,\n",
       "         3.83648320e-07,  -6.91742885e-05,   7.76123574e-03,\n",
       "        -5.70293335e-01,   4.07954557e+01,  -2.39088537e+03])"
      ]
     },
     "execution_count": 164,
     "metadata": {},
     "output_type": "execute_result"
    }
   ],
   "source": [
    "s2[0][:,-1]"
   ]
  },
  {
   "cell_type": "code",
   "execution_count": 169,
   "metadata": {
    "collapsed": false
   },
   "outputs": [
    {
     "data": {
      "text/plain": [
       "array([  9.66407625e+20,   3.24639273e+19,   1.09054042e+18,\n",
       "         3.66338425e+16,   1.23061777e+15,   4.13393736e+13,\n",
       "         1.38868774e+12,   4.66493192e+10,   1.56706142e+09,\n",
       "         5.26413147e+07,   1.76834678e+06,   5.94029681e+04,\n",
       "         1.99548678e+03,   6.70331399e+01,   2.25180237e+00,\n",
       "         7.56433894e-02,   2.54104110e-03,   8.53596053e-05,\n",
       "         2.86743186e-06,   9.63238462e-08,   3.23574676e-09,\n",
       "         1.08696418e-10,   3.65137083e-12,   1.22658218e-13,\n",
       "         4.12038085e-15,   1.38413378e-16,   4.64963410e-18,\n",
       "         1.56192252e-19,   5.24686869e-21,   1.76254780e-22,\n",
       "         5.92081665e-24,   1.98894293e-25,   6.68133166e-27])"
      ]
     },
     "execution_count": 169,
     "metadata": {},
     "output_type": "execute_result"
    }
   ],
   "source": [
    "s2[0][:,0]"
   ]
  },
  {
   "cell_type": "code",
   "execution_count": 168,
   "metadata": {
    "collapsed": false
   },
   "outputs": [
    {
     "data": {
      "text/plain": [
       "array([ 1000.        ,   999.99680316,   999.98786638,   999.97298135,\n",
       "         999.95213903,   999.92534238,   999.89259014,   999.8538942 ,\n",
       "         999.80923874,   999.7586155 ,   999.70203566,   999.63953491,\n",
       "         999.5710757 ,   999.49665215,   999.4162584 ,   999.32988857,\n",
       "         999.23753679,   999.13919718,   999.034903  ,   998.92465247,\n",
       "         998.80842292,   998.68621131,   998.5580146 ,   998.42382977,\n",
       "         998.28365376,   998.13748355,   997.9853353 ,   997.82719563,\n",
       "         997.66306114,   997.49292967,   997.31679908,   997.13466721,\n",
       "         996.9465319 ,   996.75238927,   996.5522314 ,   996.34606042,\n",
       "         996.13387382,   995.91566909,   995.69144372,   995.46119519,\n",
       "         995.22492098,   994.98260911,   994.7342533 ,   994.47985685,\n",
       "         994.21941647,   993.95292884,   993.68039063,   993.40179854,\n",
       "         993.11714924,   992.82642243,   992.52962181,   992.22674574,\n",
       "         991.91779006,   991.60275056,   991.28162307,   990.95440341,\n",
       "         990.62108475,   990.2816471 ,   989.93609725,   989.58443019,\n",
       "         989.22664089,   988.86272431,   988.49267544,   988.11648924,\n",
       "         987.7341525 ,   987.34565368,   986.95099488,   986.55017022,\n",
       "         986.14317386,   985.72999994,   985.31064261,   984.885096  ,\n",
       "         984.45333958,   984.01537135,   983.57118831,   983.12078376,\n",
       "         982.66415102,   982.20128339,   981.73217416,   981.25681538,\n",
       "         980.77518164,   980.28727855,   979.79309857,   979.2926341 ,\n",
       "         978.78587759,   978.27282146,   977.75345815,   977.22777276,\n",
       "         976.69574779,   976.15738465,   975.61267484,   975.06160989,\n",
       "         974.50418131,   973.94038062,   973.37019934,   972.79361425,\n",
       "         972.21061795,   971.62120662,   971.0253708 ,   970.42310107,\n",
       "         969.81438797])"
      ]
     },
     "execution_count": 168,
     "metadata": {},
     "output_type": "execute_result"
    }
   ],
   "source": [
    "s2[2]"
   ]
  },
  {
   "cell_type": "code",
   "execution_count": null,
   "metadata": {
    "collapsed": true
   },
   "outputs": [],
   "source": []
  }
 ],
 "metadata": {
  "kernelspec": {
   "display_name": "Python 3",
   "language": "python",
   "name": "python3"
  },
  "language_info": {
   "codemirror_mode": {
    "name": "ipython",
    "version": 3
   },
   "file_extension": ".py",
   "mimetype": "text/x-python",
   "name": "python",
   "nbconvert_exporter": "python",
   "pygments_lexer": "ipython3",
   "version": "3.4.1"
  }
 },
 "nbformat": 4,
 "nbformat_minor": 0
}
